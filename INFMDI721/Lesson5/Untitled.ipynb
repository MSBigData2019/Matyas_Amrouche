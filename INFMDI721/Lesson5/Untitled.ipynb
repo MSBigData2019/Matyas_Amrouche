{
 "cells": [
  {
   "cell_type": "code",
   "execution_count": 46,
   "metadata": {},
   "outputs": [],
   "source": [
    "import glob\n",
    "import re\n",
    "import os\n",
    "import sys\n",
    "import csv\n",
    "import pandas as pd\n",
    "import matplotlib.pyplot as plt\n",
    "import numpy as np\n",
    "import time \n",
    "from multiprocessing import Process\n",
    "from sklearn.ensemble import RandomForestClassifier\n",
    "from sklearn.datasets import make_classification\n",
    "from sklearn.tree import ExtraTreeClassifier\n"
   ]
  },
  {
   "cell_type": "code",
   "execution_count": 38,
   "metadata": {},
   "outputs": [
    {
     "data": {
      "text/html": [
       "<div>\n",
       "<style scoped>\n",
       "    .dataframe tbody tr th:only-of-type {\n",
       "        vertical-align: middle;\n",
       "    }\n",
       "\n",
       "    .dataframe tbody tr th {\n",
       "        vertical-align: top;\n",
       "    }\n",
       "\n",
       "    .dataframe thead th {\n",
       "        text-align: right;\n",
       "    }\n",
       "</style>\n",
       "<table border=\"1\" class=\"dataframe\">\n",
       "  <thead>\n",
       "    <tr style=\"text-align: right;\">\n",
       "      <th></th>\n",
       "      <th>Unnamed: 0</th>\n",
       "      <th>Behavior_lenght</th>\n",
       "      <th>Behavior_dist_RPI</th>\n",
       "      <th>Behavior_dist_API</th>\n",
       "      <th>Process_length</th>\n",
       "      <th>Process_dist</th>\n",
       "      <th>LABELS</th>\n",
       "    </tr>\n",
       "  </thead>\n",
       "  <tbody>\n",
       "    <tr>\n",
       "      <th>0</th>\n",
       "      <td>0</td>\n",
       "      <td>546</td>\n",
       "      <td>40</td>\n",
       "      <td>26</td>\n",
       "      <td>1</td>\n",
       "      <td>2</td>\n",
       "      <td>1</td>\n",
       "    </tr>\n",
       "    <tr>\n",
       "      <th>1</th>\n",
       "      <td>1</td>\n",
       "      <td>2791</td>\n",
       "      <td>197</td>\n",
       "      <td>120</td>\n",
       "      <td>2</td>\n",
       "      <td>3</td>\n",
       "      <td>0</td>\n",
       "    </tr>\n",
       "    <tr>\n",
       "      <th>2</th>\n",
       "      <td>2</td>\n",
       "      <td>29330</td>\n",
       "      <td>21</td>\n",
       "      <td>15</td>\n",
       "      <td>1</td>\n",
       "      <td>2</td>\n",
       "      <td>1</td>\n",
       "    </tr>\n",
       "    <tr>\n",
       "      <th>3</th>\n",
       "      <td>3</td>\n",
       "      <td>816</td>\n",
       "      <td>166</td>\n",
       "      <td>69</td>\n",
       "      <td>1</td>\n",
       "      <td>2</td>\n",
       "      <td>0</td>\n",
       "    </tr>\n",
       "    <tr>\n",
       "      <th>4</th>\n",
       "      <td>4</td>\n",
       "      <td>1234</td>\n",
       "      <td>35</td>\n",
       "      <td>23</td>\n",
       "      <td>1</td>\n",
       "      <td>2</td>\n",
       "      <td>0</td>\n",
       "    </tr>\n",
       "  </tbody>\n",
       "</table>\n",
       "</div>"
      ],
      "text/plain": [
       "   Unnamed: 0  Behavior_lenght  Behavior_dist_RPI  Behavior_dist_API  \\\n",
       "0           0              546                 40                 26   \n",
       "1           1             2791                197                120   \n",
       "2           2            29330                 21                 15   \n",
       "3           3              816                166                 69   \n",
       "4           4             1234                 35                 23   \n",
       "\n",
       "   Process_length  Process_dist  LABELS  \n",
       "0               1             2       1  \n",
       "1               2             3       0  \n",
       "2               1             2       1  \n",
       "3               1             2       0  \n",
       "4               1             2       0  "
      ]
     },
     "execution_count": 38,
     "metadata": {},
     "output_type": "execute_result"
    }
   ],
   "source": [
    "df = pd.read_csv('/Users/matyasamrouche/XY.csv', sep=\",\")\n",
    "df.head(5)"
   ]
  },
  {
   "cell_type": "code",
   "execution_count": 44,
   "metadata": {},
   "outputs": [
    {
     "name": "stdout",
     "output_type": "stream",
     "text": [
      "0.7245577992684271\n"
     ]
    }
   ],
   "source": [
    "def Random_Forest(df):\n",
    "    X = df[['Behavior_lenght','Behavior_dist_RPI', 'Behavior_dist_API', 'Process_length', 'Process_dist']]\n",
    "    Y = df['LABELS']\n",
    "    clf = RandomForestClassifier(n_estimators=300, max_depth=2, random_state=0)\n",
    "    clf.fit(X, Y)\n",
    "    return clf.score(X,Y)\n",
    "\n",
    "print(Random_Forest(df))"
   ]
  },
  {
   "cell_type": "code",
   "execution_count": 48,
   "metadata": {},
   "outputs": [
    {
     "name": "stdout",
     "output_type": "stream",
     "text": [
      "0.9909806083078619\n"
     ]
    }
   ],
   "source": [
    "train, test = train_test_split(df, test_size=0.2)\n",
    "\n",
    "def Extra_Tree_Classifier(train , test):\n",
    "    X_train = train[['Behavior_lenght','Behavior_dist_RPI', 'Behavior_dist_API', 'Process_length', 'Process_dist']]\n",
    "    Y_train = train['LABELS']\n",
    "\n",
    "    clf = ExtraTreeClassifier()\n",
    "    clf.fit(X, Y)\n",
    "    predict(test, )\n",
    "    return clf.score(X,Y)\n",
    "\n",
    "print(Extra_Tree_Classifier(train, test))"
   ]
  },
  {
   "cell_type": "code",
   "execution_count": null,
   "metadata": {},
   "outputs": [],
   "source": []
  }
 ],
 "metadata": {
  "kernelspec": {
   "display_name": "Python 3",
   "language": "python",
   "name": "python3"
  },
  "language_info": {
   "codemirror_mode": {
    "name": "ipython",
    "version": 3
   },
   "file_extension": ".py",
   "mimetype": "text/x-python",
   "name": "python",
   "nbconvert_exporter": "python",
   "pygments_lexer": "ipython3",
   "version": "3.6.5"
  }
 },
 "nbformat": 4,
 "nbformat_minor": 2
}
